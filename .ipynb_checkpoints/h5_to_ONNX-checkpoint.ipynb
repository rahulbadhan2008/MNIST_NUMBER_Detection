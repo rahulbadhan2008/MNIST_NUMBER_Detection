{
 "cells": [
  {
   "cell_type": "code",
   "execution_count": 3,
   "metadata": {},
   "outputs": [
    {
     "name": "stdout",
     "output_type": "stream",
     "text": [
      "WARNING:tensorflow:From /Users/rahulbadhan/opt/anaconda3/envs/darkflow-env/lib/python3.7/site-packages/tensorflow_core/python/ops/resource_variable_ops.py:1630: calling BaseResourceVariable.__init__ (from tensorflow.python.ops.resource_variable_ops) with constraint is deprecated and will be removed in a future version.\n",
      "Instructions for updating:\n",
      "If using Keras pass *_constraint arguments to layers.\n",
      "WARNING:tensorflow:From /Users/rahulbadhan/opt/anaconda3/envs/darkflow-env/lib/python3.7/site-packages/keras/backend/tensorflow_backend.py:4070: The name tf.nn.max_pool is deprecated. Please use tf.nn.max_pool2d instead.\n",
      "\n",
      "WARNING:tensorflow:From /Users/rahulbadhan/opt/anaconda3/envs/darkflow-env/lib/python3.7/site-packages/keras/backend/tensorflow_backend.py:422: The name tf.global_variables is deprecated. Please use tf.compat.v1.global_variables instead.\n",
      "\n"
     ]
    },
    {
     "name": "stderr",
     "output_type": "stream",
     "text": [
      "The ONNX operator number change on the optimization: 25 -> 14\n"
     ]
    }
   ],
   "source": [
    "import onnx\n",
    "import keras2onnx\n",
    "from keras.models import load_model\n",
    "# Load the keras model\n",
    "model = load_model('model/mnist_simple_cnn.h5')\n",
    " \n",
    "# Convert it into onnx\n",
    "onnx_model = keras2onnx.convert_keras(model, model.name)\n",
    " \n",
    "# Save the model as flower.onnx\n",
    "onnx.save_model(onnx_model, 'onnx/mnist_simple_cnn.onnx')"
   ]
  },
  {
   "cell_type": "code",
   "execution_count": null,
   "metadata": {},
   "outputs": [],
   "source": []
  }
 ],
 "metadata": {
  "kernelspec": {
   "display_name": "Python 3",
   "language": "python",
   "name": "python3"
  }
 },
 "nbformat": 4,
 "nbformat_minor": 4
}
